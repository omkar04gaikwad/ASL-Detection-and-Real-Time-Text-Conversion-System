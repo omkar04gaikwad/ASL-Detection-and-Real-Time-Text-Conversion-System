{
 "cells": [
  {
   "cell_type": "code",
   "execution_count": 27,
   "metadata": {
    "colab": {
     "base_uri": "https://localhost:8080/",
     "height": 36
    },
    "id": "pHVJ3h0EoyZE",
    "outputId": "05290559-093b-4623-91ee-9fb92d512b74"
   },
   "outputs": [],
   "source": [
    "import tensorflow as tf\n",
    "import os\n",
    "import mediapipe as mp\n",
    "import numpy as np\n",
    "import cv2\n",
    "from tqdm import tqdm"
   ]
  },
  {
   "cell_type": "code",
   "execution_count": 28,
   "metadata": {
    "id": "iDC6Ny0wZOWR"
   },
   "outputs": [],
   "source": [
    "mp_hands = mp.solutions.hands.Hands(static_image_mode=False, max_num_hands=1, min_detection_confidence=0.5)"
   ]
  },
  {
   "cell_type": "code",
   "execution_count": 29,
   "metadata": {},
   "outputs": [],
   "source": [
    "def extract_pose_features(image):\n",
    "    image_rgb = cv2.cvtColor(image, cv2.COLOR_BGR2RGB)\n",
    "    results = mp_hands.process(image_rgb)\n",
    "    if results.multi_hand_landmarks:\n",
    "        # Extract landmarks from the first detected hand\n",
    "        hand_landmarks = results.multi_hand_landmarks[0]\n",
    "        # Normalize landmarks to use as features\n",
    "        landmarks = np.array([(landmark.x, landmark.y) for landmark in hand_landmarks.landmark]).flatten()\n",
    "        return landmarks\n",
    "    return np.zeros(42)"
   ]
  },
  {
   "cell_type": "code",
   "execution_count": 30,
   "metadata": {
    "id": "72kgo5FTBMfU"
   },
   "outputs": [],
   "source": [
    "def process_image_batch(img_paths):\n",
    "    features = []\n",
    "    for img_path in img_paths:\n",
    "        img = cv2.imread(img_path)\n",
    "        if img is not None:\n",
    "            img = cv2.resize(img, (32, 32))\n",
    "            pose_feature = extract_pose_features(img)\n",
    "            features.append(pose_feature)\n",
    "        else:\n",
    "            features.append(None)\n",
    "    return features"
   ]
  },
  {
   "cell_type": "code",
   "execution_count": 31,
   "metadata": {},
   "outputs": [],
   "source": [
    "def process_directory(directory, batch_size=100):\n",
    "    label = os.path.basename(directory)\n",
    "    img_paths = [os.path.join(directory, img_name) for img_name in sorted(os.listdir(directory))]\n",
    "    total_batches = (len(img_paths) + batch_size - 1) // batch_size\n",
    "    features = []\n",
    "    \n",
    "    print(f\"Processing {label}:\")\n",
    "    for i in tqdm(range(total_batches), desc=f\"{label} Progress\"):\n",
    "        batch_paths = img_paths[i*batch_size:(i+1)*batch_size]\n",
    "        batch_features = process_image_batch(batch_paths)\n",
    "        features.extend(batch_features)\n",
    "    \n",
    "    return label, features"
   ]
  },
  {
   "cell_type": "code",
   "execution_count": 32,
   "metadata": {
    "id": "6fm3BCgDBZeM"
   },
   "outputs": [],
   "source": [
    "def load_and_process_images_with_dict(directory):\n",
    "    data_dict = {}\n",
    "    label_map = {chr(i + ord('a')): i for i in range(26)}  # Mapping 'a' to 'z' to 0-25\n",
    "    labels = sorted([name for name in os.listdir(directory) if os.path.isdir(os.path.join(directory, name))])\n",
    "    \n",
    "    print(\"Starting batch processing of images...\")\n",
    "    for label in labels:\n",
    "        directory_path = os.path.join(directory, label)\n",
    "        label, features = process_directory(directory_path)\n",
    "        data_dict[label] = [feature for feature in features if feature is not None]\n",
    "    \n",
    "    return data_dict"
   ]
  },
  {
   "cell_type": "code",
   "execution_count": 33,
   "metadata": {
    "id": "hQRy8QHEEmUr"
   },
   "outputs": [
    {
     "name": "stdout",
     "output_type": "stream",
     "text": [
      "Starting batch processing of images...\n",
      "Processing a:\n"
     ]
    },
    {
     "name": "stderr",
     "output_type": "stream",
     "text": [
      "a Progress: 100%|██████████████████████████████████████████████████████████████████████| 80/80 [02:25<00:00,  1.82s/it]\n"
     ]
    },
    {
     "name": "stdout",
     "output_type": "stream",
     "text": [
      "Processing b:\n"
     ]
    },
    {
     "name": "stderr",
     "output_type": "stream",
     "text": [
      "b Progress: 100%|██████████████████████████████████████████████████████████████████████| 80/80 [03:28<00:00,  2.60s/it]\n"
     ]
    },
    {
     "name": "stdout",
     "output_type": "stream",
     "text": [
      "Processing c:\n"
     ]
    },
    {
     "name": "stderr",
     "output_type": "stream",
     "text": [
      "c Progress: 100%|██████████████████████████████████████████████████████████████████████| 80/80 [02:49<00:00,  2.12s/it]\n"
     ]
    },
    {
     "name": "stdout",
     "output_type": "stream",
     "text": [
      "Processing d:\n"
     ]
    },
    {
     "name": "stderr",
     "output_type": "stream",
     "text": [
      "d Progress: 100%|██████████████████████████████████████████████████████████████████████| 80/80 [02:17<00:00,  1.72s/it]\n"
     ]
    },
    {
     "name": "stdout",
     "output_type": "stream",
     "text": [
      "Processing e:\n"
     ]
    },
    {
     "name": "stderr",
     "output_type": "stream",
     "text": [
      "e Progress: 100%|██████████████████████████████████████████████████████████████████████| 80/80 [02:53<00:00,  2.17s/it]\n"
     ]
    },
    {
     "name": "stdout",
     "output_type": "stream",
     "text": [
      "Processing f:\n"
     ]
    },
    {
     "name": "stderr",
     "output_type": "stream",
     "text": [
      "f Progress: 100%|██████████████████████████████████████████████████████████████████████| 80/80 [02:36<00:00,  1.96s/it]\n"
     ]
    },
    {
     "name": "stdout",
     "output_type": "stream",
     "text": [
      "Processing g:\n"
     ]
    },
    {
     "name": "stderr",
     "output_type": "stream",
     "text": [
      "g Progress: 100%|██████████████████████████████████████████████████████████████████████| 80/80 [02:36<00:00,  1.96s/it]\n"
     ]
    },
    {
     "name": "stdout",
     "output_type": "stream",
     "text": [
      "Processing h:\n"
     ]
    },
    {
     "name": "stderr",
     "output_type": "stream",
     "text": [
      "h Progress: 100%|██████████████████████████████████████████████████████████████████████| 80/80 [02:54<00:00,  2.18s/it]\n"
     ]
    },
    {
     "name": "stdout",
     "output_type": "stream",
     "text": [
      "Processing i:\n"
     ]
    },
    {
     "name": "stderr",
     "output_type": "stream",
     "text": [
      "i Progress: 100%|██████████████████████████████████████████████████████████████████████| 80/80 [03:20<00:00,  2.51s/it]\n"
     ]
    },
    {
     "name": "stdout",
     "output_type": "stream",
     "text": [
      "Processing j:\n"
     ]
    },
    {
     "name": "stderr",
     "output_type": "stream",
     "text": [
      "j Progress: 100%|██████████████████████████████████████████████████████████████████████| 80/80 [03:24<00:00,  2.55s/it]\n"
     ]
    },
    {
     "name": "stdout",
     "output_type": "stream",
     "text": [
      "Processing k:\n"
     ]
    },
    {
     "name": "stderr",
     "output_type": "stream",
     "text": [
      "k Progress: 100%|██████████████████████████████████████████████████████████████████████| 80/80 [03:18<00:00,  2.48s/it]\n"
     ]
    },
    {
     "name": "stdout",
     "output_type": "stream",
     "text": [
      "Processing l:\n"
     ]
    },
    {
     "name": "stderr",
     "output_type": "stream",
     "text": [
      "l Progress: 100%|██████████████████████████████████████████████████████████████████████| 80/80 [03:16<00:00,  2.46s/it]\n"
     ]
    },
    {
     "name": "stdout",
     "output_type": "stream",
     "text": [
      "Processing m:\n"
     ]
    },
    {
     "name": "stderr",
     "output_type": "stream",
     "text": [
      "m Progress: 100%|██████████████████████████████████████████████████████████████████████| 80/80 [03:07<00:00,  2.35s/it]\n"
     ]
    },
    {
     "name": "stdout",
     "output_type": "stream",
     "text": [
      "Processing n:\n"
     ]
    },
    {
     "name": "stderr",
     "output_type": "stream",
     "text": [
      "n Progress: 100%|██████████████████████████████████████████████████████████████████████| 80/80 [03:20<00:00,  2.50s/it]\n"
     ]
    },
    {
     "name": "stdout",
     "output_type": "stream",
     "text": [
      "Processing o:\n"
     ]
    },
    {
     "name": "stderr",
     "output_type": "stream",
     "text": [
      "o Progress: 100%|██████████████████████████████████████████████████████████████████████| 80/80 [03:20<00:00,  2.51s/it]\n"
     ]
    },
    {
     "name": "stdout",
     "output_type": "stream",
     "text": [
      "Processing p:\n"
     ]
    },
    {
     "name": "stderr",
     "output_type": "stream",
     "text": [
      "p Progress: 100%|██████████████████████████████████████████████████████████████████████| 80/80 [03:06<00:00,  2.34s/it]\n"
     ]
    },
    {
     "name": "stdout",
     "output_type": "stream",
     "text": [
      "Processing q:\n"
     ]
    },
    {
     "name": "stderr",
     "output_type": "stream",
     "text": [
      "q Progress: 100%|██████████████████████████████████████████████████████████████████████| 80/80 [03:20<00:00,  2.51s/it]\n"
     ]
    },
    {
     "name": "stdout",
     "output_type": "stream",
     "text": [
      "Processing r:\n"
     ]
    },
    {
     "name": "stderr",
     "output_type": "stream",
     "text": [
      "r Progress: 100%|██████████████████████████████████████████████████████████████████████| 80/80 [03:32<00:00,  2.65s/it]\n"
     ]
    },
    {
     "name": "stdout",
     "output_type": "stream",
     "text": [
      "Processing s:\n"
     ]
    },
    {
     "name": "stderr",
     "output_type": "stream",
     "text": [
      "s Progress: 100%|██████████████████████████████████████████████████████████████████████| 80/80 [03:35<00:00,  2.70s/it]\n"
     ]
    },
    {
     "name": "stdout",
     "output_type": "stream",
     "text": [
      "Processing t:\n"
     ]
    },
    {
     "name": "stderr",
     "output_type": "stream",
     "text": [
      "t Progress: 100%|██████████████████████████████████████████████████████████████████████| 80/80 [03:24<00:00,  2.55s/it]\n"
     ]
    },
    {
     "name": "stdout",
     "output_type": "stream",
     "text": [
      "Processing u:\n"
     ]
    },
    {
     "name": "stderr",
     "output_type": "stream",
     "text": [
      "u Progress: 100%|██████████████████████████████████████████████████████████████████████| 80/80 [03:02<00:00,  2.28s/it]\n"
     ]
    },
    {
     "name": "stdout",
     "output_type": "stream",
     "text": [
      "Processing v:\n"
     ]
    },
    {
     "name": "stderr",
     "output_type": "stream",
     "text": [
      "v Progress: 100%|██████████████████████████████████████████████████████████████████████| 80/80 [03:27<00:00,  2.60s/it]\n"
     ]
    },
    {
     "name": "stdout",
     "output_type": "stream",
     "text": [
      "Processing w:\n"
     ]
    },
    {
     "name": "stderr",
     "output_type": "stream",
     "text": [
      "w Progress: 100%|██████████████████████████████████████████████████████████████████████| 80/80 [03:11<00:00,  2.40s/it]\n"
     ]
    },
    {
     "name": "stdout",
     "output_type": "stream",
     "text": [
      "Processing x:\n"
     ]
    },
    {
     "name": "stderr",
     "output_type": "stream",
     "text": [
      "x Progress: 100%|██████████████████████████████████████████████████████████████████████| 80/80 [03:05<00:00,  2.32s/it]\n"
     ]
    },
    {
     "name": "stdout",
     "output_type": "stream",
     "text": [
      "Processing y:\n"
     ]
    },
    {
     "name": "stderr",
     "output_type": "stream",
     "text": [
      "y Progress: 100%|██████████████████████████████████████████████████████████████████████| 80/80 [03:10<00:00,  2.38s/it]\n"
     ]
    },
    {
     "name": "stdout",
     "output_type": "stream",
     "text": [
      "Processing z:\n"
     ]
    },
    {
     "name": "stderr",
     "output_type": "stream",
     "text": [
      "z Progress: 100%|██████████████████████████████████████████████████████████████████████| 80/80 [03:28<00:00,  2.60s/it]\n"
     ]
    }
   ],
   "source": [
    "directory = os.path.join('..','dataset','trainingData')\n",
    "train_data = load_and_process_images_with_dict(directory)"
   ]
  },
  {
   "cell_type": "code",
   "execution_count": 40,
   "metadata": {
    "id": "oeGOozKYItNR"
   },
   "outputs": [],
   "source": [
    "import pandas as pd\n",
    "train_df = pd.DataFrame(train_data.items(), columns=['Alphabet', 'Landmarks'])"
   ]
  },
  {
   "cell_type": "code",
   "execution_count": 55,
   "metadata": {
    "id": "Eh5E7M5TNopE"
   },
   "outputs": [],
   "source": [
    "expanded_landmarks = df['Landmarks'].apply(pd.Series)"
   ]
  },
  {
   "cell_type": "code",
   "execution_count": 61,
   "metadata": {
    "id": "F-6IzFQ3QFLH"
   },
   "outputs": [],
   "source": [
    "train_data_df = pd.concat([train_df['Alphabet'], expanded_landmarks], axis=1)"
   ]
  },
  {
   "cell_type": "code",
   "execution_count": 63,
   "metadata": {},
   "outputs": [
    {
     "data": {
      "text/html": [
       "<div>\n",
       "<style scoped>\n",
       "    .dataframe tbody tr th:only-of-type {\n",
       "        vertical-align: middle;\n",
       "    }\n",
       "\n",
       "    .dataframe tbody tr th {\n",
       "        vertical-align: top;\n",
       "    }\n",
       "\n",
       "    .dataframe thead th {\n",
       "        text-align: right;\n",
       "    }\n",
       "</style>\n",
       "<table border=\"1\" class=\"dataframe\">\n",
       "  <thead>\n",
       "    <tr style=\"text-align: right;\">\n",
       "      <th></th>\n",
       "      <th>alphabets</th>\n",
       "      <th>landmark_0</th>\n",
       "      <th>landmark_1</th>\n",
       "      <th>landmark_2</th>\n",
       "      <th>landmark_3</th>\n",
       "      <th>landmark_4</th>\n",
       "      <th>landmark_5</th>\n",
       "      <th>landmark_6</th>\n",
       "      <th>landmark_7</th>\n",
       "      <th>landmark_8</th>\n",
       "      <th>...</th>\n",
       "      <th>landmark_7990</th>\n",
       "      <th>landmark_7991</th>\n",
       "      <th>landmark_7992</th>\n",
       "      <th>landmark_7993</th>\n",
       "      <th>landmark_7994</th>\n",
       "      <th>landmark_7995</th>\n",
       "      <th>landmark_7996</th>\n",
       "      <th>landmark_7997</th>\n",
       "      <th>landmark_7998</th>\n",
       "      <th>landmark_7999</th>\n",
       "    </tr>\n",
       "  </thead>\n",
       "  <tbody>\n",
       "    <tr>\n",
       "      <th>0</th>\n",
       "      <td>a</td>\n",
       "      <td>[0.4838511645793915, 0.6284142732620239, 0.369...</td>\n",
       "      <td>[0.48559656739234924, 0.6370050311088562, 0.37...</td>\n",
       "      <td>[0.4946433901786804, 0.6508243083953857, 0.376...</td>\n",
       "      <td>[0.48447081446647644, 0.6698311567306519, 0.37...</td>\n",
       "      <td>[0.49145880341529846, 0.6666201949119568, 0.36...</td>\n",
       "      <td>[0.4821345806121826, 0.6677781343460083, 0.358...</td>\n",
       "      <td>[0.48449715971946716, 0.6721535325050354, 0.35...</td>\n",
       "      <td>[0.4841638207435608, 0.6722722053527832, 0.357...</td>\n",
       "      <td>[0.4823983311653137, 0.671943187713623, 0.3552...</td>\n",
       "      <td>...</td>\n",
       "      <td>[0.489443838596344, 0.6730363368988037, 0.3607...</td>\n",
       "      <td>[0.4863154888153076, 0.6711098551750183, 0.361...</td>\n",
       "      <td>[0.4835115075111389, 0.6675708889961243, 0.361...</td>\n",
       "      <td>[0.48151394724845886, 0.667807936668396, 0.359...</td>\n",
       "      <td>[0.486027330160141, 0.6649206280708313, 0.3578...</td>\n",
       "      <td>[0.48650282621383667, 0.6637972593307495, 0.35...</td>\n",
       "      <td>[0.47774815559387207, 0.6650660037994385, 0.35...</td>\n",
       "      <td>[0.47892794013023376, 0.6657238006591797, 0.35...</td>\n",
       "      <td>[0.4793429970741272, 0.6666581630706787, 0.356...</td>\n",
       "      <td>[0.48166096210479736, 0.6673048734664917, 0.35...</td>\n",
       "    </tr>\n",
       "  </tbody>\n",
       "</table>\n",
       "<p>1 rows × 8001 columns</p>\n",
       "</div>"
      ],
      "text/plain": [
       "  alphabets                                         landmark_0  \\\n",
       "0         a  [0.4838511645793915, 0.6284142732620239, 0.369...   \n",
       "\n",
       "                                          landmark_1  \\\n",
       "0  [0.48559656739234924, 0.6370050311088562, 0.37...   \n",
       "\n",
       "                                          landmark_2  \\\n",
       "0  [0.4946433901786804, 0.6508243083953857, 0.376...   \n",
       "\n",
       "                                          landmark_3  \\\n",
       "0  [0.48447081446647644, 0.6698311567306519, 0.37...   \n",
       "\n",
       "                                          landmark_4  \\\n",
       "0  [0.49145880341529846, 0.6666201949119568, 0.36...   \n",
       "\n",
       "                                          landmark_5  \\\n",
       "0  [0.4821345806121826, 0.6677781343460083, 0.358...   \n",
       "\n",
       "                                          landmark_6  \\\n",
       "0  [0.48449715971946716, 0.6721535325050354, 0.35...   \n",
       "\n",
       "                                          landmark_7  \\\n",
       "0  [0.4841638207435608, 0.6722722053527832, 0.357...   \n",
       "\n",
       "                                          landmark_8  ...  \\\n",
       "0  [0.4823983311653137, 0.671943187713623, 0.3552...  ...   \n",
       "\n",
       "                                       landmark_7990  \\\n",
       "0  [0.489443838596344, 0.6730363368988037, 0.3607...   \n",
       "\n",
       "                                       landmark_7991  \\\n",
       "0  [0.4863154888153076, 0.6711098551750183, 0.361...   \n",
       "\n",
       "                                       landmark_7992  \\\n",
       "0  [0.4835115075111389, 0.6675708889961243, 0.361...   \n",
       "\n",
       "                                       landmark_7993  \\\n",
       "0  [0.48151394724845886, 0.667807936668396, 0.359...   \n",
       "\n",
       "                                       landmark_7994  \\\n",
       "0  [0.486027330160141, 0.6649206280708313, 0.3578...   \n",
       "\n",
       "                                       landmark_7995  \\\n",
       "0  [0.48650282621383667, 0.6637972593307495, 0.35...   \n",
       "\n",
       "                                       landmark_7996  \\\n",
       "0  [0.47774815559387207, 0.6650660037994385, 0.35...   \n",
       "\n",
       "                                       landmark_7997  \\\n",
       "0  [0.47892794013023376, 0.6657238006591797, 0.35...   \n",
       "\n",
       "                                       landmark_7998  \\\n",
       "0  [0.4793429970741272, 0.6666581630706787, 0.356...   \n",
       "\n",
       "                                       landmark_7999  \n",
       "0  [0.48166096210479736, 0.6673048734664917, 0.35...  \n",
       "\n",
       "[1 rows x 8001 columns]"
      ]
     },
     "execution_count": 63,
     "metadata": {},
     "output_type": "execute_result"
    }
   ],
   "source": [
    "train_data_df.columns = ['alphabets']+ [f'landmark_{i}' for i in range(8000)]\n",
    "train_data_df.head(1)"
   ]
  },
  {
   "cell_type": "code",
   "execution_count": 64,
   "metadata": {
    "id": "wPsh0WItY2Pi"
   },
   "outputs": [],
   "source": [
    "train_data_df.to_parquet('train_data.parquet')"
   ]
  },
  {
   "cell_type": "code",
   "execution_count": 65,
   "metadata": {},
   "outputs": [],
   "source": [
    "train_data_df.to_csv('train_data.csv',index=False)"
   ]
  },
  {
   "cell_type": "code",
   "execution_count": 66,
   "metadata": {},
   "outputs": [
    {
     "data": {
      "text/html": [
       "<div>\n",
       "<style scoped>\n",
       "    .dataframe tbody tr th:only-of-type {\n",
       "        vertical-align: middle;\n",
       "    }\n",
       "\n",
       "    .dataframe tbody tr th {\n",
       "        vertical-align: top;\n",
       "    }\n",
       "\n",
       "    .dataframe thead th {\n",
       "        text-align: right;\n",
       "    }\n",
       "</style>\n",
       "<table border=\"1\" class=\"dataframe\">\n",
       "  <thead>\n",
       "    <tr style=\"text-align: right;\">\n",
       "      <th></th>\n",
       "      <th>alphabets</th>\n",
       "      <th>landmark_0</th>\n",
       "      <th>landmark_1</th>\n",
       "      <th>landmark_2</th>\n",
       "      <th>landmark_3</th>\n",
       "      <th>landmark_4</th>\n",
       "      <th>landmark_5</th>\n",
       "      <th>landmark_6</th>\n",
       "      <th>landmark_7</th>\n",
       "      <th>landmark_8</th>\n",
       "      <th>...</th>\n",
       "      <th>landmark_7990</th>\n",
       "      <th>landmark_7991</th>\n",
       "      <th>landmark_7992</th>\n",
       "      <th>landmark_7993</th>\n",
       "      <th>landmark_7994</th>\n",
       "      <th>landmark_7995</th>\n",
       "      <th>landmark_7996</th>\n",
       "      <th>landmark_7997</th>\n",
       "      <th>landmark_7998</th>\n",
       "      <th>landmark_7999</th>\n",
       "    </tr>\n",
       "  </thead>\n",
       "  <tbody>\n",
       "    <tr>\n",
       "      <th>0</th>\n",
       "      <td>a</td>\n",
       "      <td>[0.4838511645793915, 0.6284142732620239, 0.369...</td>\n",
       "      <td>[0.48559656739234924, 0.6370050311088562, 0.37...</td>\n",
       "      <td>[0.4946433901786804, 0.6508243083953857, 0.376...</td>\n",
       "      <td>[0.48447081446647644, 0.6698311567306519, 0.37...</td>\n",
       "      <td>[0.49145880341529846, 0.6666201949119568, 0.36...</td>\n",
       "      <td>[0.4821345806121826, 0.6677781343460083, 0.358...</td>\n",
       "      <td>[0.48449715971946716, 0.6721535325050354, 0.35...</td>\n",
       "      <td>[0.4841638207435608, 0.6722722053527832, 0.357...</td>\n",
       "      <td>[0.4823983311653137, 0.671943187713623, 0.3552...</td>\n",
       "      <td>...</td>\n",
       "      <td>[0.489443838596344, 0.6730363368988037, 0.3607...</td>\n",
       "      <td>[0.4863154888153076, 0.6711098551750183, 0.361...</td>\n",
       "      <td>[0.4835115075111389, 0.6675708889961243, 0.361...</td>\n",
       "      <td>[0.48151394724845886, 0.667807936668396, 0.359...</td>\n",
       "      <td>[0.486027330160141, 0.6649206280708313, 0.3578...</td>\n",
       "      <td>[0.48650282621383667, 0.6637972593307495, 0.35...</td>\n",
       "      <td>[0.47774815559387207, 0.6650660037994385, 0.35...</td>\n",
       "      <td>[0.47892794013023376, 0.6657238006591797, 0.35...</td>\n",
       "      <td>[0.4793429970741272, 0.6666581630706787, 0.356...</td>\n",
       "      <td>[0.48166096210479736, 0.6673048734664917, 0.35...</td>\n",
       "    </tr>\n",
       "  </tbody>\n",
       "</table>\n",
       "<p>1 rows × 8001 columns</p>\n",
       "</div>"
      ],
      "text/plain": [
       "  alphabets                                         landmark_0  \\\n",
       "0         a  [0.4838511645793915, 0.6284142732620239, 0.369...   \n",
       "\n",
       "                                          landmark_1  \\\n",
       "0  [0.48559656739234924, 0.6370050311088562, 0.37...   \n",
       "\n",
       "                                          landmark_2  \\\n",
       "0  [0.4946433901786804, 0.6508243083953857, 0.376...   \n",
       "\n",
       "                                          landmark_3  \\\n",
       "0  [0.48447081446647644, 0.6698311567306519, 0.37...   \n",
       "\n",
       "                                          landmark_4  \\\n",
       "0  [0.49145880341529846, 0.6666201949119568, 0.36...   \n",
       "\n",
       "                                          landmark_5  \\\n",
       "0  [0.4821345806121826, 0.6677781343460083, 0.358...   \n",
       "\n",
       "                                          landmark_6  \\\n",
       "0  [0.48449715971946716, 0.6721535325050354, 0.35...   \n",
       "\n",
       "                                          landmark_7  \\\n",
       "0  [0.4841638207435608, 0.6722722053527832, 0.357...   \n",
       "\n",
       "                                          landmark_8  ...  \\\n",
       "0  [0.4823983311653137, 0.671943187713623, 0.3552...  ...   \n",
       "\n",
       "                                       landmark_7990  \\\n",
       "0  [0.489443838596344, 0.6730363368988037, 0.3607...   \n",
       "\n",
       "                                       landmark_7991  \\\n",
       "0  [0.4863154888153076, 0.6711098551750183, 0.361...   \n",
       "\n",
       "                                       landmark_7992  \\\n",
       "0  [0.4835115075111389, 0.6675708889961243, 0.361...   \n",
       "\n",
       "                                       landmark_7993  \\\n",
       "0  [0.48151394724845886, 0.667807936668396, 0.359...   \n",
       "\n",
       "                                       landmark_7994  \\\n",
       "0  [0.486027330160141, 0.6649206280708313, 0.3578...   \n",
       "\n",
       "                                       landmark_7995  \\\n",
       "0  [0.48650282621383667, 0.6637972593307495, 0.35...   \n",
       "\n",
       "                                       landmark_7996  \\\n",
       "0  [0.47774815559387207, 0.6650660037994385, 0.35...   \n",
       "\n",
       "                                       landmark_7997  \\\n",
       "0  [0.47892794013023376, 0.6657238006591797, 0.35...   \n",
       "\n",
       "                                       landmark_7998  \\\n",
       "0  [0.4793429970741272, 0.6666581630706787, 0.356...   \n",
       "\n",
       "                                       landmark_7999  \n",
       "0  [0.48166096210479736, 0.6673048734664917, 0.35...  \n",
       "\n",
       "[1 rows x 8001 columns]"
      ]
     },
     "execution_count": 66,
     "metadata": {},
     "output_type": "execute_result"
    }
   ],
   "source": [
    "df = pd.read_parquet('train_data.parquet')\n",
    "df.head(1)"
   ]
  },
  {
   "cell_type": "code",
   "execution_count": 67,
   "metadata": {},
   "outputs": [],
   "source": [
    "df2 = pd.read_csv('train_data.csv')"
   ]
  },
  {
   "cell_type": "code",
   "execution_count": 68,
   "metadata": {},
   "outputs": [
    {
     "data": {
      "text/html": [
       "<div>\n",
       "<style scoped>\n",
       "    .dataframe tbody tr th:only-of-type {\n",
       "        vertical-align: middle;\n",
       "    }\n",
       "\n",
       "    .dataframe tbody tr th {\n",
       "        vertical-align: top;\n",
       "    }\n",
       "\n",
       "    .dataframe thead th {\n",
       "        text-align: right;\n",
       "    }\n",
       "</style>\n",
       "<table border=\"1\" class=\"dataframe\">\n",
       "  <thead>\n",
       "    <tr style=\"text-align: right;\">\n",
       "      <th></th>\n",
       "      <th>alphabets</th>\n",
       "      <th>landmark_0</th>\n",
       "      <th>landmark_1</th>\n",
       "      <th>landmark_2</th>\n",
       "      <th>landmark_3</th>\n",
       "      <th>landmark_4</th>\n",
       "      <th>landmark_5</th>\n",
       "      <th>landmark_6</th>\n",
       "      <th>landmark_7</th>\n",
       "      <th>landmark_8</th>\n",
       "      <th>...</th>\n",
       "      <th>landmark_7990</th>\n",
       "      <th>landmark_7991</th>\n",
       "      <th>landmark_7992</th>\n",
       "      <th>landmark_7993</th>\n",
       "      <th>landmark_7994</th>\n",
       "      <th>landmark_7995</th>\n",
       "      <th>landmark_7996</th>\n",
       "      <th>landmark_7997</th>\n",
       "      <th>landmark_7998</th>\n",
       "      <th>landmark_7999</th>\n",
       "    </tr>\n",
       "  </thead>\n",
       "  <tbody>\n",
       "    <tr>\n",
       "      <th>0</th>\n",
       "      <td>a</td>\n",
       "      <td>[0.48385116 0.62841427 0.36930937 0.58170748 0...</td>\n",
       "      <td>[0.48559657 0.63700503 0.37010401 0.58281869 0...</td>\n",
       "      <td>[0.49464339 0.65082431 0.37655279 0.58630484 0...</td>\n",
       "      <td>[0.48447081 0.66983116 0.37541434 0.58903718 0...</td>\n",
       "      <td>[0.4914588  0.66662019 0.36118621 0.59223318 0...</td>\n",
       "      <td>[0.48213458 0.66777813 0.35807601 0.59006488 0...</td>\n",
       "      <td>[0.48449716 0.67215353 0.35762829 0.59155536 0...</td>\n",
       "      <td>[0.48416382 0.67227221 0.35702679 0.59087288 0...</td>\n",
       "      <td>[0.48239833 0.67194319 0.35522836 0.5920341  0...</td>\n",
       "      <td>...</td>\n",
       "      <td>[0.48944384 0.67303634 0.36077929 0.58941799 0...</td>\n",
       "      <td>[0.48631549 0.67110986 0.36124492 0.5886299  0...</td>\n",
       "      <td>[0.48351151 0.66757089 0.3611235  0.58922809 0...</td>\n",
       "      <td>[0.48151395 0.66780794 0.3595365  0.58900297 0...</td>\n",
       "      <td>[0.48602733 0.66492063 0.3578341  0.59189183 0...</td>\n",
       "      <td>[0.48650283 0.66379726 0.35887694 0.59170502 0...</td>\n",
       "      <td>[0.47774816 0.665066   0.35399839 0.59159082 0...</td>\n",
       "      <td>[0.47892794 0.6657238  0.3536199  0.5903883  0...</td>\n",
       "      <td>[0.479343   0.66665816 0.35681063 0.58615822 0...</td>\n",
       "      <td>[0.48166096 0.66730487 0.35899919 0.58521336 0...</td>\n",
       "    </tr>\n",
       "  </tbody>\n",
       "</table>\n",
       "<p>1 rows × 8001 columns</p>\n",
       "</div>"
      ],
      "text/plain": [
       "  alphabets                                         landmark_0  \\\n",
       "0         a  [0.48385116 0.62841427 0.36930937 0.58170748 0...   \n",
       "\n",
       "                                          landmark_1  \\\n",
       "0  [0.48559657 0.63700503 0.37010401 0.58281869 0...   \n",
       "\n",
       "                                          landmark_2  \\\n",
       "0  [0.49464339 0.65082431 0.37655279 0.58630484 0...   \n",
       "\n",
       "                                          landmark_3  \\\n",
       "0  [0.48447081 0.66983116 0.37541434 0.58903718 0...   \n",
       "\n",
       "                                          landmark_4  \\\n",
       "0  [0.4914588  0.66662019 0.36118621 0.59223318 0...   \n",
       "\n",
       "                                          landmark_5  \\\n",
       "0  [0.48213458 0.66777813 0.35807601 0.59006488 0...   \n",
       "\n",
       "                                          landmark_6  \\\n",
       "0  [0.48449716 0.67215353 0.35762829 0.59155536 0...   \n",
       "\n",
       "                                          landmark_7  \\\n",
       "0  [0.48416382 0.67227221 0.35702679 0.59087288 0...   \n",
       "\n",
       "                                          landmark_8  ...  \\\n",
       "0  [0.48239833 0.67194319 0.35522836 0.5920341  0...  ...   \n",
       "\n",
       "                                       landmark_7990  \\\n",
       "0  [0.48944384 0.67303634 0.36077929 0.58941799 0...   \n",
       "\n",
       "                                       landmark_7991  \\\n",
       "0  [0.48631549 0.67110986 0.36124492 0.5886299  0...   \n",
       "\n",
       "                                       landmark_7992  \\\n",
       "0  [0.48351151 0.66757089 0.3611235  0.58922809 0...   \n",
       "\n",
       "                                       landmark_7993  \\\n",
       "0  [0.48151395 0.66780794 0.3595365  0.58900297 0...   \n",
       "\n",
       "                                       landmark_7994  \\\n",
       "0  [0.48602733 0.66492063 0.3578341  0.59189183 0...   \n",
       "\n",
       "                                       landmark_7995  \\\n",
       "0  [0.48650283 0.66379726 0.35887694 0.59170502 0...   \n",
       "\n",
       "                                       landmark_7996  \\\n",
       "0  [0.47774816 0.665066   0.35399839 0.59159082 0...   \n",
       "\n",
       "                                       landmark_7997  \\\n",
       "0  [0.47892794 0.6657238  0.3536199  0.5903883  0...   \n",
       "\n",
       "                                       landmark_7998  \\\n",
       "0  [0.479343   0.66665816 0.35681063 0.58615822 0...   \n",
       "\n",
       "                                       landmark_7999  \n",
       "0  [0.48166096 0.66730487 0.35899919 0.58521336 0...  \n",
       "\n",
       "[1 rows x 8001 columns]"
      ]
     },
     "execution_count": 68,
     "metadata": {},
     "output_type": "execute_result"
    }
   ],
   "source": [
    "df2.head(1)"
   ]
  },
  {
   "cell_type": "code",
   "execution_count": null,
   "metadata": {},
   "outputs": [],
   "source": []
  }
 ],
 "metadata": {
  "accelerator": "GPU",
  "colab": {
   "gpuType": "T4",
   "provenance": []
  },
  "kernelspec": {
   "display_name": "Python 3 (ipykernel)",
   "language": "python",
   "name": "python3"
  },
  "language_info": {
   "codemirror_mode": {
    "name": "ipython",
    "version": 3
   },
   "file_extension": ".py",
   "mimetype": "text/x-python",
   "name": "python",
   "nbconvert_exporter": "python",
   "pygments_lexer": "ipython3",
   "version": "3.9.13"
  }
 },
 "nbformat": 4,
 "nbformat_minor": 4
}
